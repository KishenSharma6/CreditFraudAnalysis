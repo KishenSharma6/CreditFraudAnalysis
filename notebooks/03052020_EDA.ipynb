{
 "cells": [
  {
   "cell_type": "code",
   "execution_count": 4,
   "id": "solved-image",
   "metadata": {},
   "outputs": [],
   "source": [
    "import os\n",
    "import pandas as pd\n",
    "import numpy as np\n",
    "import matplotlib.pyplot as plt\n",
    "import seaborn as sns"
   ]
  },
  {
   "cell_type": "code",
   "execution_count": 5,
   "id": "crude-question",
   "metadata": {},
   "outputs": [],
   "source": [
    "#Set notebook preferences\n",
    "pd.set_option('display.float_format', lambda x: '%.3f' % x)"
   ]
  },
  {
   "cell_type": "code",
   "execution_count": 7,
   "id": "interested-reserve",
   "metadata": {},
   "outputs": [],
   "source": [
    "import yaml\n",
    "path= r'/Users/ksharma/Documents/Data Science/Projects/paysim_credit_fraud_analysis/'\n",
    "config_name= 'config.yaml'\n",
    "\n",
    "#read yaml file\n",
    "with open(os.path.join(path, config_name)) as file:\n",
    "    config = yaml.safe_load(file)\n",
    "    \n",
    "df= pd.read_csv(config['data']['cleanedData'], dtype={'isFraud':'category', 'isFlaggedFraud':'category'})\n",
    "df.drop('Unnamed: 0', axis= 1, inplace= True)"
   ]
  },
  {
   "cell_type": "markdown",
   "id": "cathedral-cargo",
   "metadata": {},
   "source": [
    "**Data Overview**"
   ]
  },
  {
   "cell_type": "code",
   "execution_count": 8,
   "id": "protecting-success",
   "metadata": {},
   "outputs": [
    {
     "data": {
      "text/plain": [
       "(6362620, 9)"
      ]
     },
     "metadata": {},
     "output_type": "display_data"
    },
    {
     "data": {
      "text/html": [
       "<div>\n",
       "<style scoped>\n",
       "    .dataframe tbody tr th:only-of-type {\n",
       "        vertical-align: middle;\n",
       "    }\n",
       "\n",
       "    .dataframe tbody tr th {\n",
       "        vertical-align: top;\n",
       "    }\n",
       "\n",
       "    .dataframe thead th {\n",
       "        text-align: right;\n",
       "    }\n",
       "</style>\n",
       "<table border=\"1\" class=\"dataframe\">\n",
       "  <thead>\n",
       "    <tr style=\"text-align: right;\">\n",
       "      <th></th>\n",
       "      <th>step</th>\n",
       "      <th>type</th>\n",
       "      <th>amount</th>\n",
       "      <th>oldbalanceOrg</th>\n",
       "      <th>newbalanceOrig</th>\n",
       "      <th>oldbalanceDest</th>\n",
       "      <th>newbalanceDest</th>\n",
       "      <th>isFraud</th>\n",
       "      <th>isFlaggedFraud</th>\n",
       "    </tr>\n",
       "  </thead>\n",
       "  <tbody>\n",
       "    <tr>\n",
       "      <th>0</th>\n",
       "      <td>1</td>\n",
       "      <td>PAYMENT</td>\n",
       "      <td>9839.640</td>\n",
       "      <td>170136.000</td>\n",
       "      <td>160296.360</td>\n",
       "      <td>0.000</td>\n",
       "      <td>0.000</td>\n",
       "      <td>0</td>\n",
       "      <td>0</td>\n",
       "    </tr>\n",
       "    <tr>\n",
       "      <th>1</th>\n",
       "      <td>1</td>\n",
       "      <td>PAYMENT</td>\n",
       "      <td>1864.280</td>\n",
       "      <td>21249.000</td>\n",
       "      <td>19384.720</td>\n",
       "      <td>0.000</td>\n",
       "      <td>0.000</td>\n",
       "      <td>0</td>\n",
       "      <td>0</td>\n",
       "    </tr>\n",
       "    <tr>\n",
       "      <th>2</th>\n",
       "      <td>1</td>\n",
       "      <td>TRANSFER</td>\n",
       "      <td>181.000</td>\n",
       "      <td>181.000</td>\n",
       "      <td>0.000</td>\n",
       "      <td>0.000</td>\n",
       "      <td>0.000</td>\n",
       "      <td>1</td>\n",
       "      <td>0</td>\n",
       "    </tr>\n",
       "    <tr>\n",
       "      <th>3</th>\n",
       "      <td>1</td>\n",
       "      <td>CASH_OUT</td>\n",
       "      <td>181.000</td>\n",
       "      <td>181.000</td>\n",
       "      <td>0.000</td>\n",
       "      <td>21182.000</td>\n",
       "      <td>0.000</td>\n",
       "      <td>1</td>\n",
       "      <td>0</td>\n",
       "    </tr>\n",
       "    <tr>\n",
       "      <th>4</th>\n",
       "      <td>1</td>\n",
       "      <td>PAYMENT</td>\n",
       "      <td>11668.140</td>\n",
       "      <td>41554.000</td>\n",
       "      <td>29885.860</td>\n",
       "      <td>0.000</td>\n",
       "      <td>0.000</td>\n",
       "      <td>0</td>\n",
       "      <td>0</td>\n",
       "    </tr>\n",
       "  </tbody>\n",
       "</table>\n",
       "</div>"
      ],
      "text/plain": [
       "   step      type    amount  oldbalanceOrg  newbalanceOrig  oldbalanceDest  \\\n",
       "0     1   PAYMENT  9839.640     170136.000      160296.360           0.000   \n",
       "1     1   PAYMENT  1864.280      21249.000       19384.720           0.000   \n",
       "2     1  TRANSFER   181.000        181.000           0.000           0.000   \n",
       "3     1  CASH_OUT   181.000        181.000           0.000       21182.000   \n",
       "4     1   PAYMENT 11668.140      41554.000       29885.860           0.000   \n",
       "\n",
       "   newbalanceDest isFraud isFlaggedFraud  \n",
       "0           0.000       0              0  \n",
       "1           0.000       0              0  \n",
       "2           0.000       1              0  \n",
       "3           0.000       1              0  \n",
       "4           0.000       0              0  "
      ]
     },
     "metadata": {},
     "output_type": "display_data"
    }
   ],
   "source": [
    "#Preview data\n",
    "display(df.shape)\n",
    "display(df.head())"
   ]
  },
  {
   "cell_type": "code",
   "execution_count": 9,
   "id": "centered-brave",
   "metadata": {},
   "outputs": [
    {
     "name": "stdout",
     "output_type": "stream",
     "text": [
      "<class 'pandas.core.frame.DataFrame'>\n",
      "RangeIndex: 6362620 entries, 0 to 6362619\n",
      "Data columns (total 9 columns):\n",
      " #   Column          Dtype   \n",
      "---  ------          -----   \n",
      " 0   step            int64   \n",
      " 1   type            object  \n",
      " 2   amount          float64 \n",
      " 3   oldbalanceOrg   float64 \n",
      " 4   newbalanceOrig  float64 \n",
      " 5   oldbalanceDest  float64 \n",
      " 6   newbalanceDest  float64 \n",
      " 7   isFraud         category\n",
      " 8   isFlaggedFraud  category\n",
      "dtypes: category(2), float64(5), int64(1), object(1)\n",
      "memory usage: 351.9+ MB\n"
     ]
    }
   ],
   "source": [
    "df.info()"
   ]
  },
  {
   "cell_type": "code",
   "execution_count": 10,
   "id": "vulnerable-oklahoma",
   "metadata": {},
   "outputs": [
    {
     "data": {
      "text/html": [
       "<div>\n",
       "<style scoped>\n",
       "    .dataframe tbody tr th:only-of-type {\n",
       "        vertical-align: middle;\n",
       "    }\n",
       "\n",
       "    .dataframe tbody tr th {\n",
       "        vertical-align: top;\n",
       "    }\n",
       "\n",
       "    .dataframe thead th {\n",
       "        text-align: right;\n",
       "    }\n",
       "</style>\n",
       "<table border=\"1\" class=\"dataframe\">\n",
       "  <thead>\n",
       "    <tr style=\"text-align: right;\">\n",
       "      <th></th>\n",
       "      <th>step</th>\n",
       "      <th>amount</th>\n",
       "      <th>oldbalanceOrg</th>\n",
       "      <th>newbalanceOrig</th>\n",
       "      <th>oldbalanceDest</th>\n",
       "      <th>newbalanceDest</th>\n",
       "    </tr>\n",
       "  </thead>\n",
       "  <tbody>\n",
       "    <tr>\n",
       "      <th>count</th>\n",
       "      <td>6362620.000</td>\n",
       "      <td>6362620.000</td>\n",
       "      <td>6362620.000</td>\n",
       "      <td>6362620.000</td>\n",
       "      <td>6362620.000</td>\n",
       "      <td>6362620.000</td>\n",
       "    </tr>\n",
       "    <tr>\n",
       "      <th>mean</th>\n",
       "      <td>243.397</td>\n",
       "      <td>179861.904</td>\n",
       "      <td>833883.104</td>\n",
       "      <td>855113.669</td>\n",
       "      <td>1100701.667</td>\n",
       "      <td>1224996.398</td>\n",
       "    </tr>\n",
       "    <tr>\n",
       "      <th>std</th>\n",
       "      <td>142.332</td>\n",
       "      <td>603858.231</td>\n",
       "      <td>2888242.673</td>\n",
       "      <td>2924048.503</td>\n",
       "      <td>3399180.113</td>\n",
       "      <td>3674128.942</td>\n",
       "    </tr>\n",
       "    <tr>\n",
       "      <th>min</th>\n",
       "      <td>1.000</td>\n",
       "      <td>0.000</td>\n",
       "      <td>0.000</td>\n",
       "      <td>0.000</td>\n",
       "      <td>0.000</td>\n",
       "      <td>0.000</td>\n",
       "    </tr>\n",
       "    <tr>\n",
       "      <th>25%</th>\n",
       "      <td>156.000</td>\n",
       "      <td>13389.570</td>\n",
       "      <td>0.000</td>\n",
       "      <td>0.000</td>\n",
       "      <td>0.000</td>\n",
       "      <td>0.000</td>\n",
       "    </tr>\n",
       "    <tr>\n",
       "      <th>50%</th>\n",
       "      <td>239.000</td>\n",
       "      <td>74871.940</td>\n",
       "      <td>14208.000</td>\n",
       "      <td>0.000</td>\n",
       "      <td>132705.665</td>\n",
       "      <td>214661.440</td>\n",
       "    </tr>\n",
       "    <tr>\n",
       "      <th>75%</th>\n",
       "      <td>335.000</td>\n",
       "      <td>208721.478</td>\n",
       "      <td>107315.175</td>\n",
       "      <td>144258.410</td>\n",
       "      <td>943036.708</td>\n",
       "      <td>1111909.250</td>\n",
       "    </tr>\n",
       "    <tr>\n",
       "      <th>max</th>\n",
       "      <td>743.000</td>\n",
       "      <td>92445516.640</td>\n",
       "      <td>59585040.370</td>\n",
       "      <td>49585040.370</td>\n",
       "      <td>356015889.350</td>\n",
       "      <td>356179278.920</td>\n",
       "    </tr>\n",
       "  </tbody>\n",
       "</table>\n",
       "</div>"
      ],
      "text/plain": [
       "             step       amount  oldbalanceOrg  newbalanceOrig  oldbalanceDest  \\\n",
       "count 6362620.000  6362620.000    6362620.000     6362620.000     6362620.000   \n",
       "mean      243.397   179861.904     833883.104      855113.669     1100701.667   \n",
       "std       142.332   603858.231    2888242.673     2924048.503     3399180.113   \n",
       "min         1.000        0.000          0.000           0.000           0.000   \n",
       "25%       156.000    13389.570          0.000           0.000           0.000   \n",
       "50%       239.000    74871.940      14208.000           0.000      132705.665   \n",
       "75%       335.000   208721.478     107315.175      144258.410      943036.708   \n",
       "max       743.000 92445516.640   59585040.370    49585040.370   356015889.350   \n",
       "\n",
       "       newbalanceDest  \n",
       "count     6362620.000  \n",
       "mean      1224996.398  \n",
       "std       3674128.942  \n",
       "min             0.000  \n",
       "25%             0.000  \n",
       "50%        214661.440  \n",
       "75%       1111909.250  \n",
       "max     356179278.920  "
      ]
     },
     "execution_count": 10,
     "metadata": {},
     "output_type": "execute_result"
    }
   ],
   "source": [
    "df.describe()"
   ]
  },
  {
   "cell_type": "code",
   "execution_count": 11,
   "id": "dominican-melissa",
   "metadata": {},
   "outputs": [
    {
     "data": {
      "text/plain": [
       "step              0\n",
       "type              0\n",
       "amount            0\n",
       "oldbalanceOrg     0\n",
       "newbalanceOrig    0\n",
       "oldbalanceDest    0\n",
       "newbalanceDest    0\n",
       "isFraud           0\n",
       "isFlaggedFraud    0\n",
       "dtype: int64"
      ]
     },
     "execution_count": 11,
     "metadata": {},
     "output_type": "execute_result"
    }
   ],
   "source": [
    "#Missing data counts\n",
    "df.isna().sum()"
   ]
  },
  {
   "cell_type": "markdown",
   "id": "speaking-applicant",
   "metadata": {},
   "source": [
    "### EDA"
   ]
  },
  {
   "cell_type": "code",
   "execution_count": 12,
   "id": "outdoor-climb",
   "metadata": {},
   "outputs": [],
   "source": [
    "import tensorflow as tf"
   ]
  },
  {
   "cell_type": "code",
   "execution_count": null,
   "id": "occupied-chess",
   "metadata": {},
   "outputs": [],
   "source": []
  },
  {
   "cell_type": "code",
   "execution_count": null,
   "id": "similar-south",
   "metadata": {},
   "outputs": [],
   "source": []
  }
 ],
 "metadata": {
  "kernelspec": {
   "display_name": "DeepLearning",
   "language": "python",
   "name": "deeplearning"
  },
  "language_info": {
   "codemirror_mode": {
    "name": "ipython",
    "version": 3
   },
   "file_extension": ".py",
   "mimetype": "text/x-python",
   "name": "python",
   "nbconvert_exporter": "python",
   "pygments_lexer": "ipython3",
   "version": "3.8.8"
  }
 },
 "nbformat": 4,
 "nbformat_minor": 5
}
