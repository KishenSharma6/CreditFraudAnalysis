{
 "cells": [
  {
   "cell_type": "code",
   "execution_count": 2,
   "id": "static-destination",
   "metadata": {},
   "outputs": [],
   "source": [
    "import os\n",
    "import pandas as pd"
   ]
  },
  {
   "cell_type": "code",
   "execution_count": null,
   "id": "recorded-gross",
   "metadata": {},
   "outputs": [],
   "source": [
    "import yaml\n",
    "path= r'/Users/ksharma/Documents/Data Science/Projects/paysim_credit_fraud_analysis/'\n",
    "config_name= 'config.yaml'\n",
    "\n",
    "#read yaml file\n",
    "with open(os.path.join(path, config_name)) as file:\n",
    "    config = yaml.safe_load(file)\n",
    "    \n",
    "rawData= pd.read_csv(config['data']['rawData'])"
   ]
  },
  {
   "cell_type": "code",
   "execution_count": null,
   "id": "threaded-female",
   "metadata": {},
   "outputs": [],
   "source": []
  },
  {
   "cell_type": "code",
   "execution_count": null,
   "id": "utility-hacker",
   "metadata": {},
   "outputs": [],
   "source": []
  },
  {
   "cell_type": "code",
   "execution_count": null,
   "id": "indoor-probe",
   "metadata": {},
   "outputs": [],
   "source": []
  },
  {
   "cell_type": "code",
   "execution_count": null,
   "id": "powered-westminster",
   "metadata": {},
   "outputs": [],
   "source": []
  },
  {
   "cell_type": "code",
   "execution_count": null,
   "id": "renewable-calculator",
   "metadata": {},
   "outputs": [],
   "source": []
  }
 ],
 "metadata": {
  "kernelspec": {
   "display_name": "ShallowClassification",
   "language": "python",
   "name": "shallowclassification"
  },
  "language_info": {
   "codemirror_mode": {
    "name": "ipython",
    "version": 3
   },
   "file_extension": ".py",
   "mimetype": "text/x-python",
   "name": "python",
   "nbconvert_exporter": "python",
   "pygments_lexer": "ipython3",
   "version": "3.8.6"
  }
 },
 "nbformat": 4,
 "nbformat_minor": 5
}
