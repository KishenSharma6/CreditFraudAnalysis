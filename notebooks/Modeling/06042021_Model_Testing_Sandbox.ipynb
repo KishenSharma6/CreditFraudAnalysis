{
 "cells": [
  {
   "cell_type": "code",
   "execution_count": 1,
   "id": "accredited-disco",
   "metadata": {},
   "outputs": [],
   "source": [
    "import os\n",
    "import pandas as pd\n",
    "import numpy as np"
   ]
  },
  {
   "cell_type": "code",
   "execution_count": 2,
   "id": "harmful-concert",
   "metadata": {},
   "outputs": [],
   "source": [
    "#Set notebook preferences\n",
    "pd.set_option('display.float_format', lambda x: '%.3f' % x)"
   ]
  },
  {
   "cell_type": "code",
   "execution_count": 5,
   "id": "moved-progress",
   "metadata": {},
   "outputs": [],
   "source": [
    "#Load modules\n",
    "os.chdir('/Users/ksharma/Documents/ML Engineer/Machine Learning/Projects/paysim_credit_fraud_analysis/')\n",
    "from src.data.import_export_data import load_config\n",
    "\n",
    "#Import data\n",
    "path= r'/Users/ksharma/Documents/ML Engineer/Machine Learning/Projects/paysim_credit_fraud_analysis/'\n",
    "config_name= 'config.yaml'\n",
    "\n",
    "config= load_config(config_name= config_name, path=path)\n",
    "\n",
    "dtypes= {'isFraud':'bool', 'step':'object'}\n",
    "rawData= pd.read_csv(config['paths']['cleanedData'] + 'processedData.csv', dtype= dtypes, index_col= [0])"
   ]
  },
  {
   "cell_type": "markdown",
   "id": "alone-manchester",
   "metadata": {},
   "source": [
    "**Data Overview**"
   ]
  },
  {
   "cell_type": "code",
   "execution_count": 6,
   "id": "reasonable-agriculture",
   "metadata": {},
   "outputs": [
    {
     "data": {
      "text/plain": [
       "(6362620, 6)"
      ]
     },
     "metadata": {},
     "output_type": "display_data"
    },
    {
     "data": {
      "text/html": [
       "<div>\n",
       "<style scoped>\n",
       "    .dataframe tbody tr th:only-of-type {\n",
       "        vertical-align: middle;\n",
       "    }\n",
       "\n",
       "    .dataframe tbody tr th {\n",
       "        vertical-align: top;\n",
       "    }\n",
       "\n",
       "    .dataframe thead th {\n",
       "        text-align: right;\n",
       "    }\n",
       "</style>\n",
       "<table border=\"1\" class=\"dataframe\">\n",
       "  <thead>\n",
       "    <tr style=\"text-align: right;\">\n",
       "      <th></th>\n",
       "      <th>amount</th>\n",
       "      <th>isFraud</th>\n",
       "      <th>oldbalanceDest</th>\n",
       "      <th>oldbalanceOrg</th>\n",
       "      <th>step</th>\n",
       "      <th>type</th>\n",
       "    </tr>\n",
       "  </thead>\n",
       "  <tbody>\n",
       "    <tr>\n",
       "      <th>0</th>\n",
       "      <td>9839.640</td>\n",
       "      <td>False</td>\n",
       "      <td>0.000</td>\n",
       "      <td>170136.000</td>\n",
       "      <td>1</td>\n",
       "      <td>PAYMENT</td>\n",
       "    </tr>\n",
       "    <tr>\n",
       "      <th>1</th>\n",
       "      <td>1864.280</td>\n",
       "      <td>False</td>\n",
       "      <td>0.000</td>\n",
       "      <td>21249.000</td>\n",
       "      <td>1</td>\n",
       "      <td>PAYMENT</td>\n",
       "    </tr>\n",
       "    <tr>\n",
       "      <th>2</th>\n",
       "      <td>181.000</td>\n",
       "      <td>True</td>\n",
       "      <td>0.000</td>\n",
       "      <td>181.000</td>\n",
       "      <td>1</td>\n",
       "      <td>TRANSFER</td>\n",
       "    </tr>\n",
       "    <tr>\n",
       "      <th>3</th>\n",
       "      <td>181.000</td>\n",
       "      <td>True</td>\n",
       "      <td>21182.000</td>\n",
       "      <td>181.000</td>\n",
       "      <td>1</td>\n",
       "      <td>CASH_OUT</td>\n",
       "    </tr>\n",
       "    <tr>\n",
       "      <th>4</th>\n",
       "      <td>11668.140</td>\n",
       "      <td>False</td>\n",
       "      <td>0.000</td>\n",
       "      <td>41554.000</td>\n",
       "      <td>1</td>\n",
       "      <td>PAYMENT</td>\n",
       "    </tr>\n",
       "  </tbody>\n",
       "</table>\n",
       "</div>"
      ],
      "text/plain": [
       "     amount  isFraud  oldbalanceDest  oldbalanceOrg step      type\n",
       "0  9839.640    False           0.000     170136.000    1   PAYMENT\n",
       "1  1864.280    False           0.000      21249.000    1   PAYMENT\n",
       "2   181.000     True           0.000        181.000    1  TRANSFER\n",
       "3   181.000     True       21182.000        181.000    1  CASH_OUT\n",
       "4 11668.140    False           0.000      41554.000    1   PAYMENT"
      ]
     },
     "metadata": {},
     "output_type": "display_data"
    }
   ],
   "source": [
    "display(rawData.shape)\n",
    "display(rawData.head())"
   ]
  },
  {
   "cell_type": "code",
   "execution_count": 7,
   "id": "prospective-sacramento",
   "metadata": {},
   "outputs": [
    {
     "name": "stdout",
     "output_type": "stream",
     "text": [
      "<class 'pandas.core.frame.DataFrame'>\n",
      "Int64Index: 6362620 entries, 0 to 6362619\n",
      "Data columns (total 6 columns):\n",
      " #   Column          Dtype  \n",
      "---  ------          -----  \n",
      " 0   amount          float64\n",
      " 1   isFraud         bool   \n",
      " 2   oldbalanceDest  float64\n",
      " 3   oldbalanceOrg   float64\n",
      " 4   step            object \n",
      " 5   type            object \n",
      "dtypes: bool(1), float64(3), object(2)\n",
      "memory usage: 297.3+ MB\n"
     ]
    }
   ],
   "source": [
    "rawData.info()"
   ]
  },
  {
   "cell_type": "markdown",
   "id": "tested-vacation",
   "metadata": {},
   "source": [
    "**Preprocess Data**"
   ]
  },
  {
   "cell_type": "code",
   "execution_count": 11,
   "id": "alternative-bunny",
   "metadata": {},
   "outputs": [
    {
     "data": {
      "text/plain": [
       "0          False\n",
       "1          False\n",
       "2           True\n",
       "3           True\n",
       "4          False\n",
       "           ...  \n",
       "6362615     True\n",
       "6362616     True\n",
       "6362617     True\n",
       "6362618     True\n",
       "6362619     True\n",
       "Name: isFraud, Length: 6362620, dtype: bool"
      ]
     },
     "execution_count": 11,
     "metadata": {},
     "output_type": "execute_result"
    }
   ],
   "source": [
    "#seperate target from data\n",
    "X= rawData.drop(columns= 'isFraud', axis= 1)\n",
    "y= rawData.loc[:, 'isFraud']"
   ]
  },
  {
   "cell_type": "code",
   "execution_count": 9,
   "id": "floating-oregon",
   "metadata": {},
   "outputs": [
    {
     "data": {
      "text/plain": [
       "['amount', 'oldbalanceDest', 'oldbalanceOrg']"
      ]
     },
     "execution_count": 9,
     "metadata": {},
     "output_type": "execute_result"
    }
   ],
   "source": [
    "#subset numeric features\n",
    "numeric_features= list(X.select_dtypes(include='float64').columns)\n",
    "numeric_features"
   ]
  },
  {
   "cell_type": "code",
   "execution_count": 12,
   "id": "acute-fleet",
   "metadata": {},
   "outputs": [
    {
     "data": {
      "text/plain": [
       "['step', 'type']"
      ]
     },
     "execution_count": 12,
     "metadata": {},
     "output_type": "execute_result"
    }
   ],
   "source": [
    "#subset categorical features\n",
    "cat_features= list(X.select_dtypes(exclude='float64').columns)\n",
    "cat_features\n"
   ]
  },
  {
   "cell_type": "code",
   "execution_count": null,
   "id": "medium-record",
   "metadata": {},
   "outputs": [],
   "source": []
  }
 ],
 "metadata": {
  "kernelspec": {
   "display_name": "DeepLearning",
   "language": "python",
   "name": "deeplearning"
  },
  "language_info": {
   "codemirror_mode": {
    "name": "ipython",
    "version": 3
   },
   "file_extension": ".py",
   "mimetype": "text/x-python",
   "name": "python",
   "nbconvert_exporter": "python",
   "pygments_lexer": "ipython3",
   "version": "3.8.8"
  }
 },
 "nbformat": 4,
 "nbformat_minor": 5
}
