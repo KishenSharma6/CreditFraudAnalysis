{
 "cells": [
  {
   "cell_type": "code",
   "execution_count": 43,
   "id": "twenty-tsunami",
   "metadata": {},
   "outputs": [],
   "source": [
    "import os\n",
    "import pandas as pd\n",
    "import numpy as np"
   ]
  },
  {
   "cell_type": "code",
   "execution_count": 44,
   "id": "respiratory-hormone",
   "metadata": {},
   "outputs": [],
   "source": [
    "#Set notebook preferences\n",
    "pd.set_option('display.float_format', lambda x: '%.3f' % x)"
   ]
  },
  {
   "cell_type": "code",
   "execution_count": 45,
   "id": "virtual-fifteen",
   "metadata": {},
   "outputs": [
    {
     "name": "stderr",
     "output_type": "stream",
     "text": [
      "/Users/ksharma/miniforge3/envs/TensorFlow/lib/python3.8/site-packages/numpy/lib/arraysetops.py:583: FutureWarning: elementwise comparison failed; returning scalar instead, but in the future will perform elementwise comparison\n",
      "  mask |= (ar1 == a)\n"
     ]
    }
   ],
   "source": [
    "#Load modules\n",
    "os.chdir('/Users/ksharma/Documents/ML Engineer/Machine Learning/Projects/paysim_credit_fraud_analysis/')\n",
    "from src.data.import_export_data import load_config\n",
    "\n",
    "#Import data\n",
    "path= r'/Users/ksharma/Documents/ML Engineer/Machine Learning/Projects/paysim_credit_fraud_analysis/'\n",
    "config_name= 'config.yaml'\n",
    "\n",
    "config= load_config(config_name= config_name, path=path)\n",
    "\n",
    "dtypes= {'isFraud':'bool', 'step':'object'}\n",
    "rawData= pd.read_csv(config['paths']['cleanedData'] + 'processedData.csv', dtype= dtypes, index_col= [0])"
   ]
  },
  {
   "cell_type": "markdown",
   "id": "mysterious-indication",
   "metadata": {},
   "source": [
    "**Data Overview**"
   ]
  },
  {
   "cell_type": "code",
   "execution_count": 46,
   "id": "fantastic-delaware",
   "metadata": {},
   "outputs": [
    {
     "data": {
      "text/plain": [
       "(6362620, 6)"
      ]
     },
     "metadata": {},
     "output_type": "display_data"
    },
    {
     "data": {
      "text/html": [
       "<div>\n",
       "<style scoped>\n",
       "    .dataframe tbody tr th:only-of-type {\n",
       "        vertical-align: middle;\n",
       "    }\n",
       "\n",
       "    .dataframe tbody tr th {\n",
       "        vertical-align: top;\n",
       "    }\n",
       "\n",
       "    .dataframe thead th {\n",
       "        text-align: right;\n",
       "    }\n",
       "</style>\n",
       "<table border=\"1\" class=\"dataframe\">\n",
       "  <thead>\n",
       "    <tr style=\"text-align: right;\">\n",
       "      <th></th>\n",
       "      <th>amount</th>\n",
       "      <th>isFraud</th>\n",
       "      <th>oldbalanceDest</th>\n",
       "      <th>oldbalanceOrg</th>\n",
       "      <th>step</th>\n",
       "      <th>type</th>\n",
       "    </tr>\n",
       "  </thead>\n",
       "  <tbody>\n",
       "    <tr>\n",
       "      <th>0</th>\n",
       "      <td>9839.640</td>\n",
       "      <td>False</td>\n",
       "      <td>0.000</td>\n",
       "      <td>170136.000</td>\n",
       "      <td>1</td>\n",
       "      <td>PAYMENT</td>\n",
       "    </tr>\n",
       "    <tr>\n",
       "      <th>1</th>\n",
       "      <td>1864.280</td>\n",
       "      <td>False</td>\n",
       "      <td>0.000</td>\n",
       "      <td>21249.000</td>\n",
       "      <td>1</td>\n",
       "      <td>PAYMENT</td>\n",
       "    </tr>\n",
       "    <tr>\n",
       "      <th>2</th>\n",
       "      <td>181.000</td>\n",
       "      <td>True</td>\n",
       "      <td>0.000</td>\n",
       "      <td>181.000</td>\n",
       "      <td>1</td>\n",
       "      <td>TRANSFER</td>\n",
       "    </tr>\n",
       "    <tr>\n",
       "      <th>3</th>\n",
       "      <td>181.000</td>\n",
       "      <td>True</td>\n",
       "      <td>21182.000</td>\n",
       "      <td>181.000</td>\n",
       "      <td>1</td>\n",
       "      <td>CASH_OUT</td>\n",
       "    </tr>\n",
       "    <tr>\n",
       "      <th>4</th>\n",
       "      <td>11668.140</td>\n",
       "      <td>False</td>\n",
       "      <td>0.000</td>\n",
       "      <td>41554.000</td>\n",
       "      <td>1</td>\n",
       "      <td>PAYMENT</td>\n",
       "    </tr>\n",
       "  </tbody>\n",
       "</table>\n",
       "</div>"
      ],
      "text/plain": [
       "     amount  isFraud  oldbalanceDest  oldbalanceOrg step      type\n",
       "0  9839.640    False           0.000     170136.000    1   PAYMENT\n",
       "1  1864.280    False           0.000      21249.000    1   PAYMENT\n",
       "2   181.000     True           0.000        181.000    1  TRANSFER\n",
       "3   181.000     True       21182.000        181.000    1  CASH_OUT\n",
       "4 11668.140    False           0.000      41554.000    1   PAYMENT"
      ]
     },
     "metadata": {},
     "output_type": "display_data"
    }
   ],
   "source": [
    "display(rawData.shape)\n",
    "display(rawData.head())"
   ]
  },
  {
   "cell_type": "code",
   "execution_count": 47,
   "id": "opened-lighter",
   "metadata": {},
   "outputs": [
    {
     "name": "stdout",
     "output_type": "stream",
     "text": [
      "<class 'pandas.core.frame.DataFrame'>\n",
      "Int64Index: 6362620 entries, 0 to 6362619\n",
      "Data columns (total 6 columns):\n",
      " #   Column          Dtype  \n",
      "---  ------          -----  \n",
      " 0   amount          float64\n",
      " 1   isFraud         bool   \n",
      " 2   oldbalanceDest  float64\n",
      " 3   oldbalanceOrg   float64\n",
      " 4   step            object \n",
      " 5   type            object \n",
      "dtypes: bool(1), float64(3), object(2)\n",
      "memory usage: 297.3+ MB\n"
     ]
    }
   ],
   "source": [
    "rawData.info()"
   ]
  },
  {
   "cell_type": "markdown",
   "id": "bibliographic-shoulder",
   "metadata": {},
   "source": [
    "**Preprocess Data**"
   ]
  },
  {
   "cell_type": "code",
   "execution_count": 48,
   "id": "supposed-internet",
   "metadata": {},
   "outputs": [],
   "source": [
    "#seperate target from data\n",
    "X= rawData.drop(columns= 'isFraud', axis= 1)\n",
    "y= rawData.loc[:, 'isFraud']"
   ]
  },
  {
   "cell_type": "code",
   "execution_count": 49,
   "id": "infrared-jason",
   "metadata": {},
   "outputs": [
    {
     "data": {
      "text/plain": [
       "['amount', 'oldbalanceDest', 'oldbalanceOrg']"
      ]
     },
     "execution_count": 49,
     "metadata": {},
     "output_type": "execute_result"
    }
   ],
   "source": [
    "#Subset numeric features\n",
    "numeric_features= list(X.select_dtypes(include='float64').columns)\n",
    "numeric_features"
   ]
  },
  {
   "cell_type": "code",
   "execution_count": 50,
   "id": "voluntary-constraint",
   "metadata": {},
   "outputs": [],
   "source": [
    "#Create numeric transformer\n",
    "from sklearn.preprocessing import StandardScaler, OneHotEncoder\n",
    "from sklearn.pipeline import Pipeline\n",
    "from sklearn.compose import ColumnTransformer\n",
    "\n",
    "num_transformer= StandardScaler()"
   ]
  },
  {
   "cell_type": "code",
   "execution_count": null,
   "id": "external-christopher",
   "metadata": {},
   "outputs": [],
   "source": []
  },
  {
   "cell_type": "code",
   "execution_count": null,
   "id": "constitutional-douglas",
   "metadata": {},
   "outputs": [],
   "source": []
  },
  {
   "cell_type": "code",
   "execution_count": 51,
   "id": "aboriginal-trance",
   "metadata": {},
   "outputs": [
    {
     "data": {
      "text/plain": [
       "['step', 'type']"
      ]
     },
     "execution_count": 51,
     "metadata": {},
     "output_type": "execute_result"
    }
   ],
   "source": [
    "#subset categorical features\n",
    "cat_features= list(X.select_dtypes(exclude='float64').columns)\n",
    "cat_features\n"
   ]
  },
  {
   "cell_type": "code",
   "execution_count": 52,
   "id": "daily-bridge",
   "metadata": {},
   "outputs": [],
   "source": [
    "#Create cat transformer\n",
    "cat_transformer= OneHotEncoder(handle_unknown= 'ignore')"
   ]
  },
  {
   "cell_type": "code",
   "execution_count": 53,
   "id": "hungarian-rebate",
   "metadata": {},
   "outputs": [],
   "source": [
    "preprocessor= ColumnTransformer(transformers=[('num', num_transformer, numeric_features),\n",
    "                                             ('cat', cat_transformer, cat_features)])"
   ]
  },
  {
   "cell_type": "code",
   "execution_count": 54,
   "id": "domestic-brain",
   "metadata": {},
   "outputs": [
    {
     "data": {
      "text/plain": [
       "['LogisticRegression()',\n",
       " 'RandomForestClassifier()',\n",
       " 'GradientBoostingClassifier()',\n",
       " 'AdaBoostClassifier()',\n",
       " 'KNeighborsClassifier()',\n",
       " 'GaussianNB()']"
      ]
     },
     "execution_count": 54,
     "metadata": {},
     "output_type": "execute_result"
    }
   ],
   "source": [
    "#init models to try\n",
    "\n",
    "from sklearn.linear_model import LogisticRegression\n",
    "from sklearn.ensemble import RandomForestClassifier, GradientBoostingClassifier, AdaBoostClassifier\n",
    "from sklearn.neighbors import KNeighborsClassifier\n",
    "from sklearn.naive_bayes import GaussianNB\n",
    "\n",
    "baseModels= config['machineLearning']['baseModels']\n",
    "baseModels"
   ]
  },
  {
   "cell_type": "code",
   "execution_count": null,
   "id": "nutritional-florist",
   "metadata": {},
   "outputs": [],
   "source": [
    "names= ['LogisticRegression',\n",
    " 'RandomForestClassifier',\n",
    " 'GradientBoostingClassifier',\n",
    " 'AdaBoostClassifier',\n",
    " 'KNeighborsClassifier',\n",
    " 'GaussianNB']"
   ]
  },
  {
   "cell_type": "code",
   "execution_count": 59,
   "id": "addressed-exercise",
   "metadata": {},
   "outputs": [],
   "source": [
    "from sklearn.metrics import confusion_matrix, fbeta_score, make_scorer\n",
    "\n",
    "scoring= {'Recall':'recall', 'F2': make_scorer(fbeta_score, beta= 2)}"
   ]
  },
  {
   "cell_type": "code",
   "execution_count": 61,
   "id": "blocked-fifty",
   "metadata": {},
   "outputs": [],
   "source": [
    "from src.models.modeling import Data, Models\n"
   ]
  },
  {
   "cell_type": "markdown",
   "id": "coordinate-greene",
   "metadata": {},
   "source": [
    "**Test base models on baseline data (No over/under sampling applied)**"
   ]
  },
  {
   "cell_type": "code",
   "execution_count": 66,
   "id": "annoying-nowhere",
   "metadata": {},
   "outputs": [
    {
     "data": {
      "text/html": [
       "<div>\n",
       "<style scoped>\n",
       "    .dataframe tbody tr th:only-of-type {\n",
       "        vertical-align: middle;\n",
       "    }\n",
       "\n",
       "    .dataframe tbody tr th {\n",
       "        vertical-align: top;\n",
       "    }\n",
       "\n",
       "    .dataframe thead th {\n",
       "        text-align: right;\n",
       "    }\n",
       "</style>\n",
       "<table border=\"1\" class=\"dataframe\">\n",
       "  <thead>\n",
       "    <tr style=\"text-align: right;\">\n",
       "      <th></th>\n",
       "      <th>amount</th>\n",
       "      <th>oldbalanceDest</th>\n",
       "      <th>oldbalanceOrg</th>\n",
       "      <th>step</th>\n",
       "      <th>type</th>\n",
       "    </tr>\n",
       "  </thead>\n",
       "  <tbody>\n",
       "    <tr>\n",
       "      <th>3966102</th>\n",
       "      <td>7736.520</td>\n",
       "      <td>0.000</td>\n",
       "      <td>12157.000</td>\n",
       "      <td>297</td>\n",
       "      <td>PAYMENT</td>\n",
       "    </tr>\n",
       "    <tr>\n",
       "      <th>5279478</th>\n",
       "      <td>191702.290</td>\n",
       "      <td>121557.100</td>\n",
       "      <td>104127.000</td>\n",
       "      <td>372</td>\n",
       "      <td>CASH_IN</td>\n",
       "    </tr>\n",
       "    <tr>\n",
       "      <th>850386</th>\n",
       "      <td>400455.250</td>\n",
       "      <td>0.000</td>\n",
       "      <td>100756.000</td>\n",
       "      <td>41</td>\n",
       "      <td>CASH_OUT</td>\n",
       "    </tr>\n",
       "    <tr>\n",
       "      <th>4623906</th>\n",
       "      <td>21959.550</td>\n",
       "      <td>51011.000</td>\n",
       "      <td>0.000</td>\n",
       "      <td>329</td>\n",
       "      <td>CASH_OUT</td>\n",
       "    </tr>\n",
       "    <tr>\n",
       "      <th>899604</th>\n",
       "      <td>9514.810</td>\n",
       "      <td>489737.050</td>\n",
       "      <td>29976.000</td>\n",
       "      <td>42</td>\n",
       "      <td>CASH_OUT</td>\n",
       "    </tr>\n",
       "    <tr>\n",
       "      <th>...</th>\n",
       "      <td>...</td>\n",
       "      <td>...</td>\n",
       "      <td>...</td>\n",
       "      <td>...</td>\n",
       "      <td>...</td>\n",
       "    </tr>\n",
       "    <tr>\n",
       "      <th>5437976</th>\n",
       "      <td>214248.640</td>\n",
       "      <td>6580100.980</td>\n",
       "      <td>4578980.800</td>\n",
       "      <td>378</td>\n",
       "      <td>CASH_IN</td>\n",
       "    </tr>\n",
       "    <tr>\n",
       "      <th>2202629</th>\n",
       "      <td>6591.860</td>\n",
       "      <td>0.000</td>\n",
       "      <td>0.000</td>\n",
       "      <td>185</td>\n",
       "      <td>PAYMENT</td>\n",
       "    </tr>\n",
       "    <tr>\n",
       "      <th>5788097</th>\n",
       "      <td>209724.430</td>\n",
       "      <td>374881.240</td>\n",
       "      <td>0.000</td>\n",
       "      <td>401</td>\n",
       "      <td>TRANSFER</td>\n",
       "    </tr>\n",
       "    <tr>\n",
       "      <th>1988139</th>\n",
       "      <td>204933.590</td>\n",
       "      <td>7610550.990</td>\n",
       "      <td>1619742.620</td>\n",
       "      <td>179</td>\n",
       "      <td>CASH_IN</td>\n",
       "    </tr>\n",
       "    <tr>\n",
       "      <th>4464431</th>\n",
       "      <td>400953.220</td>\n",
       "      <td>31921.550</td>\n",
       "      <td>11271.000</td>\n",
       "      <td>324</td>\n",
       "      <td>CASH_OUT</td>\n",
       "    </tr>\n",
       "  </tbody>\n",
       "</table>\n",
       "<p>100000 rows × 5 columns</p>\n",
       "</div>"
      ],
      "text/plain": [
       "            amount  oldbalanceDest  oldbalanceOrg step      type\n",
       "3966102   7736.520           0.000      12157.000  297   PAYMENT\n",
       "5279478 191702.290      121557.100     104127.000  372   CASH_IN\n",
       "850386  400455.250           0.000     100756.000   41  CASH_OUT\n",
       "4623906  21959.550       51011.000          0.000  329  CASH_OUT\n",
       "899604    9514.810      489737.050      29976.000   42  CASH_OUT\n",
       "...            ...             ...            ...  ...       ...\n",
       "5437976 214248.640     6580100.980    4578980.800  378   CASH_IN\n",
       "2202629   6591.860           0.000          0.000  185   PAYMENT\n",
       "5788097 209724.430      374881.240          0.000  401  TRANSFER\n",
       "1988139 204933.590     7610550.990    1619742.620  179   CASH_IN\n",
       "4464431 400953.220       31921.550      11271.000  324  CASH_OUT\n",
       "\n",
       "[100000 rows x 5 columns]"
      ]
     },
     "execution_count": 66,
     "metadata": {},
     "output_type": "execute_result"
    }
   ],
   "source": [
    "j= Data(X, y)\n",
    "sample1.sample_data(n= 100_000)"
   ]
  },
  {
   "cell_type": "code",
   "execution_count": 68,
   "id": "humanitarian-official",
   "metadata": {},
   "outputs": [
    {
     "data": {
      "text/html": [
       "<div>\n",
       "<style scoped>\n",
       "    .dataframe tbody tr th:only-of-type {\n",
       "        vertical-align: middle;\n",
       "    }\n",
       "\n",
       "    .dataframe tbody tr th {\n",
       "        vertical-align: top;\n",
       "    }\n",
       "\n",
       "    .dataframe thead th {\n",
       "        text-align: right;\n",
       "    }\n",
       "</style>\n",
       "<table border=\"1\" class=\"dataframe\">\n",
       "  <thead>\n",
       "    <tr style=\"text-align: right;\">\n",
       "      <th></th>\n",
       "      <th>amount</th>\n",
       "      <th>oldbalanceDest</th>\n",
       "      <th>oldbalanceOrg</th>\n",
       "    </tr>\n",
       "  </thead>\n",
       "  <tbody>\n",
       "    <tr>\n",
       "      <th>count</th>\n",
       "      <td>6362620.000</td>\n",
       "      <td>6362620.000</td>\n",
       "      <td>6362620.000</td>\n",
       "    </tr>\n",
       "    <tr>\n",
       "      <th>mean</th>\n",
       "      <td>179861.904</td>\n",
       "      <td>1100701.667</td>\n",
       "      <td>833883.104</td>\n",
       "    </tr>\n",
       "    <tr>\n",
       "      <th>std</th>\n",
       "      <td>603858.231</td>\n",
       "      <td>3399180.113</td>\n",
       "      <td>2888242.673</td>\n",
       "    </tr>\n",
       "    <tr>\n",
       "      <th>min</th>\n",
       "      <td>0.000</td>\n",
       "      <td>0.000</td>\n",
       "      <td>0.000</td>\n",
       "    </tr>\n",
       "    <tr>\n",
       "      <th>25%</th>\n",
       "      <td>13389.570</td>\n",
       "      <td>0.000</td>\n",
       "      <td>0.000</td>\n",
       "    </tr>\n",
       "    <tr>\n",
       "      <th>50%</th>\n",
       "      <td>74871.940</td>\n",
       "      <td>132705.665</td>\n",
       "      <td>14208.000</td>\n",
       "    </tr>\n",
       "    <tr>\n",
       "      <th>75%</th>\n",
       "      <td>208721.478</td>\n",
       "      <td>943036.708</td>\n",
       "      <td>107315.175</td>\n",
       "    </tr>\n",
       "    <tr>\n",
       "      <th>max</th>\n",
       "      <td>92445516.640</td>\n",
       "      <td>356015889.350</td>\n",
       "      <td>59585040.370</td>\n",
       "    </tr>\n",
       "  </tbody>\n",
       "</table>\n",
       "</div>"
      ],
      "text/plain": [
       "            amount  oldbalanceDest  oldbalanceOrg\n",
       "count  6362620.000     6362620.000    6362620.000\n",
       "mean    179861.904     1100701.667     833883.104\n",
       "std     603858.231     3399180.113    2888242.673\n",
       "min          0.000           0.000          0.000\n",
       "25%      13389.570           0.000          0.000\n",
       "50%      74871.940      132705.665      14208.000\n",
       "75%     208721.478      943036.708     107315.175\n",
       "max   92445516.640   356015889.350   59585040.370"
      ]
     },
     "execution_count": 68,
     "metadata": {},
     "output_type": "execute_result"
    }
   ],
   "source": [
    "sample1.data.describe()"
   ]
  },
  {
   "cell_type": "code",
   "execution_count": null,
   "id": "imported-favorite",
   "metadata": {},
   "outputs": [],
   "source": []
  },
  {
   "cell_type": "code",
   "execution_count": null,
   "id": "rubber-screening",
   "metadata": {},
   "outputs": [],
   "source": []
  },
  {
   "cell_type": "code",
   "execution_count": null,
   "id": "touched-commercial",
   "metadata": {},
   "outputs": [],
   "source": []
  },
  {
   "cell_type": "code",
   "execution_count": null,
   "id": "characteristic-center",
   "metadata": {},
   "outputs": [],
   "source": []
  },
  {
   "cell_type": "code",
   "execution_count": null,
   "id": "addressed-richmond",
   "metadata": {},
   "outputs": [],
   "source": []
  }
 ],
 "metadata": {
  "kernelspec": {
   "display_name": "DeepLearning",
   "language": "python",
   "name": "deeplearning"
  },
  "language_info": {
   "codemirror_mode": {
    "name": "ipython",
    "version": 3
   },
   "file_extension": ".py",
   "mimetype": "text/x-python",
   "name": "python",
   "nbconvert_exporter": "python",
   "pygments_lexer": "ipython3",
   "version": "3.8.8"
  }
 },
 "nbformat": 4,
 "nbformat_minor": 5
}
